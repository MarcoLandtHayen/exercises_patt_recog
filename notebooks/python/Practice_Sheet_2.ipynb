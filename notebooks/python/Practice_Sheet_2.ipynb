{
 "cells": [
  {
   "cell_type": "code",
   "execution_count": 1,
   "id": "358e4d49-2784-4bc6-839c-367116d220ec",
   "metadata": {},
   "outputs": [],
   "source": [
    "# Import libraries:\n",
    "import numpy as np\n",
    "import pandas as pd\n",
    "from matplotlib import pyplot as plt"
   ]
  },
  {
   "cell_type": "markdown",
   "id": "bc57d7ee",
   "metadata": {},
   "source": [
    "### Practical Exercise 2\n",
    "\n",
    "This exercise uses an easy to use modification of the original MNIST hand written digits.\n",
    "In particular, we use MNIST test data that contains 10,000 images in a csv format from [Kaggle](https://www.kaggle.com/datasets/oddrationale/mnist-in-csv/). Each digit (0..9) is contained approximately 1,000 times. The csv file is stored in ```/sources/sheet2```. The file ```mnist_test.csv``` contains 10,000 test examples and labels. Each row consists of 785 values: the first value is the label (a number from 0 to 9) and the remaining 784 values are the pixel values (a number from 0 to 255)."
   ]
  },
  {
   "cell_type": "code",
   "execution_count": 2,
   "id": "3625670a",
   "metadata": {},
   "outputs": [
    {
     "name": "stdout",
     "output_type": "stream",
     "text": [
      "Data dimensions (as vector) (#samples, #pixels): (10000, 784)\n",
      "Data dimensions (as 2D images) (#samples, #rows, #columns): (10000, 28, 28)\n",
      "Label dimensions (#samples): (10000,)\n"
     ]
    }
   ],
   "source": [
    "# Read csv containint 10,000 test examples:\n",
    "mnist_test_pd = pd.read_csv(\"../../sources/sheet2/mnist_test.csv\")\n",
    "\n",
    "# Convert to numpy array:\n",
    "mnist_test_np = np.array(mnist_test_pd)\n",
    "\n",
    "# Extract first column of second dimension, that contains labels:\n",
    "labels = mnist_test_np[:,0]\n",
    "\n",
    "# Keep only the pixel values from mnist samples as one long vector per sample:\n",
    "mnist_test_vec = mnist_test_np[:,1:]\n",
    "\n",
    "# Reshape samples to have 28 x 28 pixels per sample:\n",
    "mnist_test_2D = np.reshape(mnist_test_vec, (-1,28,28))\n",
    "\n",
    "# Check dimensions:\n",
    "print('Data dimensions (as vector) (#samples, #pixels):',np.shape(mnist_test_vec))\n",
    "print('Data dimensions (as 2D images) (#samples, #rows, #columns):',np.shape(mnist_test_2D))\n",
    "print('Label dimensions (#samples):',np.shape(labels))"
   ]
  },
  {
   "cell_type": "markdown",
   "id": "0feab0fc-2812-4958-a68d-760325b8d6de",
   "metadata": {},
   "source": [
    "#### Exercise L-2.1 (Analysis of hand written digits)\n",
    "\n",
    "a. Write a function ```show_data(im_num)```with one input parameter to display ```im_num``` example images for each digit.\n",
    "\n",
    "b. Write a function ```show_mean_and_variance(digit)``` which plots the mean and variance of all samples for ```digit``` (see lecture, Chapter 1).\n",
    "\n",
    "c. Plot the gray value distribution of pixel number 297 (using the vector representation of the image for indexing) for all given images of digit 3.\n",
    "\n",
    "d. Extend the tool from c. to sequentially analyse the images of a given digit at 10 different *interesting* pixel positions. The current pixel must be adequately illustrated.\n",
    "\n",
    "e. Generate covariance images, showing the correlation between a given base pixel and all other pixels in the image. To this end, write a function ```show_correlation(digit, x, y)``` which receives three parameters:\n",
    "- ```digit``` to be analyzed\n",
    "- $x$ coordinate of base pixel\n",
    "- $y$ coordinate of base pixel\n",
    "\n",
    "**Note:** The origin is at the top left, $x$ runs from left to right and $y$ from top to bottom\n",
    "\n",
    "f. Write a function ```show_joint_probs(min, max, digit)```, that considers all images of a specific ```digit``` and computes for each pixel the conditional joint probability:\n",
    "\n",
    "$P(\\text{gray value} \\geq \\text{min}, \\text{gray value} < \\text{max}\\,\\,|\\,\\,\\text{digit, pixel})$.\n",
    "\n",
    "As with b., the result has to be displayed as a new image in format $28 \\times 28$.\n",
    "\n",
    "**Note:** The interval of the minimal and maximal probability $[\\text{min}(P), \\text{max}(P)]$ should be linearly mapped to the full gray value range from $0$ to $255$ in order to get an optimal display.\n",
    "\n",
    "Generate images for the gray value intervals (defined by the parameters ```min```and ```max```):\n",
    "- $[0, 1[$\n",
    "- $[1, 50]$\n",
    "- $[50, 150]$\n",
    "- $[250, 255]$"
   ]
  },
  {
   "cell_type": "markdown",
   "id": "47aec908",
   "metadata": {},
   "source": [
    "#### Part a."
   ]
  },
  {
   "cell_type": "code",
   "execution_count": 37,
   "id": "cde0ee17",
   "metadata": {},
   "outputs": [],
   "source": [
    "# Define a function show_data(im_num): \n",
    "def show_data(im_num):\n",
    "    \"\"\"\n",
    "    Display the first im_num images for each digit.\n",
    "\n",
    "    Parameters:\n",
    "    ===========\n",
    "    im_num: int number to specify number of images to be shown for each digit\n",
    "\n",
    "    Returns:\n",
    "    ========\n",
    "    no return values, just show plots\n",
    "\n",
    "    \"\"\"\n",
    "\n",
    "    # Initialize plot:\n",
    "    fig = plt.figure()\n",
    "    \n",
    "    # Loop over digits 0..9:\n",
    "    for digit in range(10):\n",
    "        \n",
    "        # Loop over first im_num samples for current digit:\n",
    "        for i in range(im_num):\n",
    "    \n",
    "            # Show current image in subplot with in total 10 (= columns) x im_num (= rows) samples.\n",
    "            # Hence, want to have im_num rows and 10 columns (one for each digit).\n",
    "            # Note: Filling in the subplots is done rowwise.\n",
    "            ax = fig.add_subplot(im_num, 10, i * 10 + digit + 1)\n",
    "            ax.imshow(mnist_test_2D[labels==digit][i], cmap='gray_r')\n",
    "            \n",
    "            # Omit axes labels:\n",
    "            ax.set_axis_off()"
   ]
  },
  {
   "cell_type": "code",
   "execution_count": 38,
   "id": "6f63fb60",
   "metadata": {},
   "outputs": [
    {
     "data": {
      "image/png": "[encoded data removed]",
      "text/plain": [
       "<Figure size 432x288 with 30 Axes>"
      ]
     },
     "metadata": {
      "needs_background": "light"
     },
     "output_type": "display_data"
    }
   ],
   "source": [
    "# Test function: Show first 3 samples for each digit:\n",
    "show_data(3)"
   ]
  },
  {
   "cell_type": "markdown",
   "id": "76ee6eab",
   "metadata": {},
   "source": [
    "#### Part b."
   ]
  },
  {
   "cell_type": "code",
   "execution_count": 56,
   "id": "98b81864",
   "metadata": {},
   "outputs": [],
   "source": [
    "# Define a function show_data(im_num): \n",
    "def show_mean_and_variance(digit):\n",
    "    \"\"\"\n",
    "    Plot the mean and variance over all samples for a given digit.\n",
    "\n",
    "    Parameters:\n",
    "    ===========\n",
    "    digit: int number to specify digit\n",
    "\n",
    "    Returns:\n",
    "    ========\n",
    "    no return values, just show plots of mean and variance\n",
    "\n",
    "    \"\"\"\n",
    "\n",
    "    # Get mean and variance over all samples for specified digit:\n",
    "    mean_2D = np.mean(mnist_test_2D[labels==digit],axis=0)\n",
    "    var_2D = np.var(mnist_test_2D[labels==digit],axis=0)\n",
    "    \n",
    "    # Initialize plot:\n",
    "    fig = plt.figure()\n",
    "\n",
    "    # Plot mean:\n",
    "    ax = fig.add_subplot(1, 2, 1)\n",
    "    ax.imshow(mean_2D, cmap='gray_r')\n",
    "    ax.set_title('mean')\n",
    "\n",
    "    # Plot variance:\n",
    "    ax = fig.add_subplot(1, 2, 2)\n",
    "    ax.imshow(var_2D, cmap='gray_r')\n",
    "    ax.set_title('variance') "
   ]
  },
  {
   "cell_type": "code",
   "execution_count": 60,
   "id": "fa4ddb06-6fb8-4d39-869f-11c32a15ce1d",
   "metadata": {},
   "outputs": [
    {
     "data": {
      "image/png": "[encoded data removed]",
      "text/plain": [
       "<Figure size 432x288 with 2 Axes>"
      ]
     },
     "metadata": {
      "needs_background": "light"
     },
     "output_type": "display_data"
    }
   ],
   "source": [
    "# Test function: Show mean and variance over all samples for digit 3:\n",
    "show_mean_and_variance(3)"
   ]
  },
  {
   "cell_type": "code",
   "execution_count": null,
   "id": "087a9431",
   "metadata": {},
   "outputs": [],
   "source": []
  }
 ],
 "metadata": {
  "kernelspec": {
   "display_name": "Python 3 (ipykernel)",
   "language": "python",
   "name": "python3"
  },
  "language_info": {
   "codemirror_mode": {
    "name": "ipython",
    "version": 3
   },
   "file_extension": ".py",
   "mimetype": "text/x-python",
   "name": "python",
   "nbconvert_exporter": "python",
   "pygments_lexer": "ipython3",
   "version": "3.9.9"
  }
 },
 "nbformat": 4,
 "nbformat_minor": 5
}
