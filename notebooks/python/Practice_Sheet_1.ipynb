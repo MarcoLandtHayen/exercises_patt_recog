{
 "cells": [
  {
   "cell_type": "code",
   "execution_count": 1,
   "id": "358e4d49-2784-4bc6-839c-367116d220ec",
   "metadata": {},
   "outputs": [],
   "source": [
    "# Import libraries:\n",
    "import numpy as np"
   ]
  },
  {
   "cell_type": "markdown",
   "id": "0feab0fc-2812-4958-a68d-760325b8d6de",
   "metadata": {},
   "source": [
    "#### Exercise L-1.1 (Random variables and statistics)\n",
    "\n",
    "a. Generate two $N \\times N$ matrices $A$ and $B$ containing integer random values (set $N=100$). The numbers in $A$ must be uniformly distributed in the interval $[0,10)$ and in $B$ normally distributed with mean $0$ and standard deviation $\\sigma = 10$."
   ]
  },
  {
   "cell_type": "code",
   "execution_count": 11,
   "id": "d4b1f841-ae3a-4ea8-9973-81ec5122abe7",
   "metadata": {},
   "outputs": [
    {
     "name": "stdout",
     "output_type": "stream",
     "text": [
      "minimum value in A: 0.0\n",
      "maximum value in A: 10.0\n",
      "\n",
      "mean value for values in B: 0.045\n",
      "std. dev. for values in B: 10.014\n"
     ]
    }
   ],
   "source": [
    "# Generate matrices:\n",
    "A = np.random.uniform(low=0.0, high=10.0, size=(100,100))\n",
    "B = np.random.normal(loc=0.0, scale=10.0, size=(100,100))\n",
    "\n",
    "# Check statistics:\n",
    "print(\"minimum value in A:\", np.round(np.min(A),3))\n",
    "print(\"maximum value in A:\", np.round(np.max(A),3))\n",
    "print(\"\\nmean value for values in B:\", np.round(np.mean(B),3))\n",
    "print(\"std. dev. for values in B:\", np.round(np.std(B),3))"
   ]
  },
  {
   "cell_type": "code",
   "execution_count": null,
   "id": "830447cd-bc22-4775-a8cb-3a962decb99e",
   "metadata": {},
   "outputs": [],
   "source": []
  }
 ],
 "metadata": {
  "kernelspec": {
   "display_name": "Python 3 (ipykernel)",
   "language": "python",
   "name": "python3"
  },
  "language_info": {
   "codemirror_mode": {
    "name": "ipython",
    "version": 3
   },
   "file_extension": ".py",
   "mimetype": "text/x-python",
   "name": "python",
   "nbconvert_exporter": "python",
   "pygments_lexer": "ipython3",
   "version": "3.11.6"
  }
 },
 "nbformat": 4,
 "nbformat_minor": 5
}
