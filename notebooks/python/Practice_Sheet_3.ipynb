{
 "cells": [
  {
   "cell_type": "code",
   "execution_count": 2,
   "id": "358e4d49-2784-4bc6-839c-367116d220ec",
   "metadata": {},
   "outputs": [],
   "source": [
    "# Import libraries:\n",
    "import numpy as np\n",
    "import pandas as pd\n",
    "from matplotlib import pyplot as plt"
   ]
  },
  {
   "cell_type": "markdown",
   "id": "bc57d7ee",
   "metadata": {},
   "source": [
    "### Practical Exercise 3 (Data organisation)\n",
    "\n",
    "In this exercise we will organize the data for classification of an iris plant into one of the following three categories: (1) Iris Setosa, (2) Iris Versicolour and (3) Iris Virginica. Four plant attributes have been collected by R.A. Fisher in his classical paper: Fisher,R.A. \"The use of multiple measurements in taxonomic problems\" Annual Eugenics, 7, Part II, 179-188 (1936); also in \"Contributions to Mathematical Statistics\" (John Wiley, NY, 1950).\n",
    "\n",
    "These are:\n",
    "- sepal length in cm\n",
    "- sepal width in cm\n",
    "- petal length in cm\n",
    "- petal width in cm\n",
    "\n",
    "As raw data, we use ```data/iris_data.txt``` and ```data/iris_species.txt```. The former gives the measurements with the following implicit column headers: \"Sepal Length\", \"Sepal Width\", \"Petal Length\" and \"Petal Width\". 50 measurements are provided for each class. The latter gives the class of the respective plant for which measurements are given in the same row in ```iris_data.txt```."
   ]
  },
  {
   "cell_type": "markdown",
   "id": "d575b291",
   "metadata": {},
   "source": [
    "#### Tasks 1..5:\n",
    "\n",
    "The **original tasks working with Octave** started with: Load the data and organize it into a 50-by-4-by-3 multidimensional array named iris. The first dimension (size: 50) labels the observations for each plant class, the second (size: 4) labels the 4 measurements given for each plant and the third (size: 3) labels the class.\n",
    "\n",
    "With Python, it makes sense to work with **Pandas DataFrames**. This makes things a lot easier."
   ]
  },
  {
   "cell_type": "code",
   "execution_count": 23,
   "id": "5392df8a",
   "metadata": {},
   "outputs": [
    {
     "name": "stderr",
     "output_type": "stream",
     "text": [
      "/opt/miniconda3/lib/python3.9/site-packages/pandas/util/_decorators.py:311: ParserWarning: Falling back to the 'python' engine because the 'c' engine does not support regex separators (separators > 1 char and different from '\\s+' are interpreted as regex); you can avoid this warning by specifying engine='python'.\n",
      "  return func(*args, **kwargs)\n"
     ]
    },
    {
     "data": {
      "text/html": [
       "<div>\n",
       "<style scoped>\n",
       "    .dataframe tbody tr th:only-of-type {\n",
       "        vertical-align: middle;\n",
       "    }\n",
       "\n",
       "    .dataframe tbody tr th {\n",
       "        vertical-align: top;\n",
       "    }\n",
       "\n",
       "    .dataframe thead th {\n",
       "        text-align: right;\n",
       "    }\n",
       "</style>\n",
       "<table border=\"1\" class=\"dataframe\">\n",
       "  <thead>\n",
       "    <tr style=\"text-align: right;\">\n",
       "      <th></th>\n",
       "      <th>Sepal Length</th>\n",
       "      <th>Sepal Width</th>\n",
       "      <th>Petal Length</th>\n",
       "      <th>Petal Width</th>\n",
       "      <th>Species</th>\n",
       "      <th>Observation</th>\n",
       "    </tr>\n",
       "  </thead>\n",
       "  <tbody>\n",
       "    <tr>\n",
       "      <th>0</th>\n",
       "      <td>5.1</td>\n",
       "      <td>3.5</td>\n",
       "      <td>1.4</td>\n",
       "      <td>0.2</td>\n",
       "      <td>setosa</td>\n",
       "      <td>1</td>\n",
       "    </tr>\n",
       "    <tr>\n",
       "      <th>1</th>\n",
       "      <td>4.9</td>\n",
       "      <td>3.0</td>\n",
       "      <td>1.4</td>\n",
       "      <td>0.2</td>\n",
       "      <td>setosa</td>\n",
       "      <td>2</td>\n",
       "    </tr>\n",
       "    <tr>\n",
       "      <th>2</th>\n",
       "      <td>4.7</td>\n",
       "      <td>3.2</td>\n",
       "      <td>1.3</td>\n",
       "      <td>0.2</td>\n",
       "      <td>setosa</td>\n",
       "      <td>3</td>\n",
       "    </tr>\n",
       "    <tr>\n",
       "      <th>3</th>\n",
       "      <td>4.6</td>\n",
       "      <td>3.1</td>\n",
       "      <td>1.5</td>\n",
       "      <td>0.2</td>\n",
       "      <td>setosa</td>\n",
       "      <td>4</td>\n",
       "    </tr>\n",
       "    <tr>\n",
       "      <th>4</th>\n",
       "      <td>5.0</td>\n",
       "      <td>3.6</td>\n",
       "      <td>1.4</td>\n",
       "      <td>0.2</td>\n",
       "      <td>setosa</td>\n",
       "      <td>5</td>\n",
       "    </tr>\n",
       "    <tr>\n",
       "      <th>...</th>\n",
       "      <td>...</td>\n",
       "      <td>...</td>\n",
       "      <td>...</td>\n",
       "      <td>...</td>\n",
       "      <td>...</td>\n",
       "      <td>...</td>\n",
       "    </tr>\n",
       "    <tr>\n",
       "      <th>145</th>\n",
       "      <td>6.7</td>\n",
       "      <td>3.0</td>\n",
       "      <td>5.2</td>\n",
       "      <td>2.3</td>\n",
       "      <td>virginica</td>\n",
       "      <td>46</td>\n",
       "    </tr>\n",
       "    <tr>\n",
       "      <th>146</th>\n",
       "      <td>6.3</td>\n",
       "      <td>2.5</td>\n",
       "      <td>5.0</td>\n",
       "      <td>1.9</td>\n",
       "      <td>virginica</td>\n",
       "      <td>47</td>\n",
       "    </tr>\n",
       "    <tr>\n",
       "      <th>147</th>\n",
       "      <td>6.5</td>\n",
       "      <td>3.0</td>\n",
       "      <td>5.2</td>\n",
       "      <td>2.0</td>\n",
       "      <td>virginica</td>\n",
       "      <td>48</td>\n",
       "    </tr>\n",
       "    <tr>\n",
       "      <th>148</th>\n",
       "      <td>6.2</td>\n",
       "      <td>3.4</td>\n",
       "      <td>5.4</td>\n",
       "      <td>2.3</td>\n",
       "      <td>virginica</td>\n",
       "      <td>49</td>\n",
       "    </tr>\n",
       "    <tr>\n",
       "      <th>149</th>\n",
       "      <td>5.9</td>\n",
       "      <td>3.0</td>\n",
       "      <td>5.1</td>\n",
       "      <td>1.8</td>\n",
       "      <td>virginica</td>\n",
       "      <td>50</td>\n",
       "    </tr>\n",
       "  </tbody>\n",
       "</table>\n",
       "<p>150 rows × 6 columns</p>\n",
       "</div>"
      ],
      "text/plain": [
       "     Sepal Length  Sepal Width  Petal Length  Petal Width    Species  \\\n",
       "0             5.1          3.5           1.4          0.2     setosa   \n",
       "1             4.9          3.0           1.4          0.2     setosa   \n",
       "2             4.7          3.2           1.3          0.2     setosa   \n",
       "3             4.6          3.1           1.5          0.2     setosa   \n",
       "4             5.0          3.6           1.4          0.2     setosa   \n",
       "..            ...          ...           ...          ...        ...   \n",
       "145           6.7          3.0           5.2          2.3  virginica   \n",
       "146           6.3          2.5           5.0          1.9  virginica   \n",
       "147           6.5          3.0           5.2          2.0  virginica   \n",
       "148           6.2          3.4           5.4          2.3  virginica   \n",
       "149           5.9          3.0           5.1          1.8  virginica   \n",
       "\n",
       "     Observation  \n",
       "0              1  \n",
       "1              2  \n",
       "2              3  \n",
       "3              4  \n",
       "4              5  \n",
       "..           ...  \n",
       "145           46  \n",
       "146           47  \n",
       "147           48  \n",
       "148           49  \n",
       "149           50  \n",
       "\n",
       "[150 rows x 6 columns]"
      ]
     },
     "execution_count": 23,
     "metadata": {},
     "output_type": "execute_result"
    }
   ],
   "source": [
    "# Read txt file containing iris data, convert to numpy array:\n",
    "iris = pd.read_csv(\"../../data/sheet3/iris_data.txt\", sep='  ', header=None)\n",
    "\n",
    "# Add column headers to name the features:\n",
    "iris.columns = ['Sepal Length', 'Sepal Width', 'Petal Length', 'Petal Width']\n",
    "\n",
    "# Read txt file containing species:\n",
    "species = pd.read_csv(\"../../data/sheet3/iris_species.txt\", sep='  ', header=None)\n",
    "\n",
    "# Add species as new column to iris data:\n",
    "iris['Species'] = species\n",
    "\n",
    "# Create array with observation numbers from 1..50 for all three species:\n",
    "obs_n = np.array(range(1,51))\n",
    "obs_n = np.concatenate([obs_n, obs_n, obs_n])\n",
    "\n",
    "# Add observation numbers as new column to iris data:\n",
    "iris['Observation'] = obs_n\n",
    "\n",
    "# Check resulting data frame:\n",
    "iris"
   ]
  },
  {
   "cell_type": "code",
   "execution_count": 35,
   "id": "65dbda94",
   "metadata": {},
   "outputs": [
    {
     "name": "stdout",
     "output_type": "stream",
     "text": [
      "mean:\n",
      "            Sepal Length  Sepal Width  Petal Length  Petal Width\n",
      "Species                                                         \n",
      "setosa             5.006        3.428         1.462        0.246\n",
      "versicolor         5.936        2.770         4.260        1.326\n",
      "virginica          6.588        2.974         5.552        2.026\n",
      "\n",
      "variance:\n",
      "            Sepal Length  Sepal Width  Petal Length  Petal Width\n",
      "Species                                                         \n",
      "setosa          0.124249     0.143690      0.030159     0.011106\n",
      "versicolor      0.266433     0.098469      0.220816     0.039106\n",
      "virginica       0.404343     0.104004      0.304588     0.075433\n"
     ]
    }
   ],
   "source": [
    "# Get mean and variance of all 4 features for all 3 species:\n",
    "print('mean:')\n",
    "print(iris.loc[:, iris.columns != 'Observation'].groupby('Species').mean())\n",
    "print('\\nvariance:')\n",
    "print(iris.loc[:, iris.columns != 'Observation'].groupby('Species').var())"
   ]
  },
  {
   "cell_type": "markdown",
   "id": "4c99483c",
   "metadata": {},
   "source": [
    "#### Task 6:\n",
    "\n",
    "Generate scatter plots for the different subsets of data, e.g. visualize the distribution of data points for iris setosa and versicolor sepal length and width. Use different markers to illustrate the individual classes.\n",
    "\n",
    "Label the axes appropriately, e.g. with “Sepal Length” and “Sepal Width”. Add an adequate title and legend."
   ]
  },
  {
   "cell_type": "code",
   "execution_count": 51,
   "id": "1e6e319c",
   "metadata": {},
   "outputs": [],
   "source": [
    "# Create subsets for sepal length and width of iris setosa and versicolor:\n",
    "sep_len_setosa = iris.loc[iris['Species'] == 'setosa', ['Sepal Length']].values\n",
    "sep_wid_setosa = iris.loc[iris['Species'] == 'setosa', ['Sepal Width']].values\n",
    "sep_len_versicolor = iris.loc[iris['Species'] == 'versicolor', ['Sepal Length']].values\n",
    "sep_wid_versicolor = iris.loc[iris['Species'] == 'versicolor', ['Sepal Width']].values"
   ]
  },
  {
   "cell_type": "code",
   "execution_count": 61,
   "id": "08b408f6",
   "metadata": {},
   "outputs": [
    {
     "data": {
      "text/plain": [
       "<matplotlib.legend.Legend at 0x16c155940>"
      ]
     },
     "execution_count": 61,
     "metadata": {},
     "output_type": "execute_result"
    },
    {
     "data": {
      "image/png": "[encoded data removed]",
      "text/plain": [
       "<Figure size 432x288 with 1 Axes>"
      ]
     },
     "metadata": {
      "needs_background": "light"
     },
     "output_type": "display_data"
    }
   ],
   "source": [
    "plt.scatter(x=sep_len_setosa, y=sep_wid_setosa, c='blue', marker='o', label='setosa')\n",
    "plt.scatter(x=sep_len_versicolor, y=sep_wid_versicolor, c='red', marker='x', label='versicolor')\n",
    "plt.title('Sepal Length vs. Sepal Width')\n",
    "plt.xlabel('Sepal Length')\n",
    "plt.ylabel('Sepal Width')\n",
    "plt.legend()"
   ]
  },
  {
   "cell_type": "code",
   "execution_count": null,
   "id": "b6f3d27b",
   "metadata": {},
   "outputs": [],
   "source": []
  },
  {
   "cell_type": "code",
   "execution_count": null,
   "id": "3c107317",
   "metadata": {},
   "outputs": [],
   "source": []
  }
 ],
 "metadata": {
  "kernelspec": {
   "display_name": "Python 3 (ipykernel)",
   "language": "python",
   "name": "python3"
  },
  "language_info": {
   "codemirror_mode": {
    "name": "ipython",
    "version": 3
   },
   "file_extension": ".py",
   "mimetype": "text/x-python",
   "name": "python",
   "nbconvert_exporter": "python",
   "pygments_lexer": "ipython3",
   "version": "3.9.9"
  }
 },
 "nbformat": 4,
 "nbformat_minor": 5
}
